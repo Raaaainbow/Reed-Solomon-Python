{
 "cells": [
  {
   "cell_type": "code",
   "execution_count": 285,
   "id": "6cb447a6",
   "metadata": {},
   "outputs": [],
   "source": [
    "import galois\n",
    "import numpy as np\n",
    "from IPython.core.interactiveshell import InteractiveShell\n",
    "InteractiveShell.ast_node_interactivity = \"all\""
   ]
  },
  {
   "cell_type": "code",
   "execution_count": 286,
   "id": "24efd360",
   "metadata": {},
   "outputs": [],
   "source": [
    "GF = galois.GF(2**4)\n",
    "ax = galois.Poly.Degrees([8], field=GF)\n",
    "bx = galois.Poly.Degrees([6,4,2,1,0], field=GF)\n",
    "r, q = divmod(ax, bx)\n",
    "alpha = GF.primitive_element"
   ]
  },
  {
   "cell_type": "code",
   "execution_count": 287,
   "id": "2e4a26bf",
   "metadata": {},
   "outputs": [
    {
     "data": {
      "text/plain": [
       "Poly(12x^8 + 5x^7 + 9x^6 + 10x^5 + 12x^4 + 12x^2 + 3x, GF(2^4))"
      ]
     },
     "execution_count": 287,
     "metadata": {},
     "output_type": "execute_result"
    },
    {
     "data": {
      "text/plain": [
       "[GF(3, order=2^4),\n",
       " GF(15, order=2^4),\n",
       " GF(10, order=2^4),\n",
       " GF(2, order=2^4),\n",
       " GF(3, order=2^4),\n",
       " GF(14, order=2^4)]"
      ]
     },
     "execution_count": 287,
     "metadata": {},
     "output_type": "execute_result"
    },
    {
     "data": {
      "text/plain": [
       "[4, 12, 9, 1, 4, 11]"
      ]
     },
     "execution_count": 287,
     "metadata": {},
     "output_type": "execute_result"
    },
    {
     "data": {
      "text/plain": [
       "Poly(3x^5 + 15x^4 + 10x^3 + 2x^2 + 3x + 14, GF(2^4))"
      ]
     },
     "execution_count": 287,
     "metadata": {},
     "output_type": "execute_result"
    }
   ],
   "source": [
    "# Poly(x^8 + 7x^7 + 9x^6 + 3x^5 + 12x^4 + 10x^3 + 12x^2, GF(2^4)) KORREKTE KODEORD\n",
    "\n",
    "#degrees = [8,7,6,5,4,3,2] # KORREKTE KODEORD\n",
    "#coeffs = [GF(1), GF(7), GF(9), GF(3), GF(12), GF(10), GF(12)]\n",
    "\n",
    "degrees = [8,7,6,1,4,5,2] # MED FEJL\n",
    "coeffs = [GF(12), GF(5), GF(9), GF(3), GF(12), GF(10), GF(12)]\n",
    "\n",
    "\n",
    "#degrees = [8, 6, 5, 3, 2, 0] # FAKE\n",
    "#coeffs = [GF(1), alpha**14, alpha**4, alpha**9, alpha**6, alpha**1]\n",
    "received = galois.Poly.Degrees(degrees, coeffs=coeffs, field=GF)\n",
    "received\n",
    "\n",
    "t = 3\n",
    "S = []\n",
    "for i in range(1, 2*t+1):\n",
    "    Si = received(alpha**i)\n",
    "    S.append(Si)\n",
    "S\n",
    "\n",
    "S_powers = []\n",
    "for s in S:\n",
    "    S_powers.append(GF.log(s))\n",
    "S_powers\n",
    "\n",
    "s_alpha= [alpha**S_powers[0],alpha**S_powers[1],alpha**S_powers[2],alpha**S_powers[3],alpha**S_powers[4],alpha**S_powers[5],]\n",
    "\n",
    "S_poly = galois.Poly(s_alpha, field=GF)\n",
    "S_poly"
   ]
  },
  {
   "cell_type": "code",
   "execution_count": 288,
   "id": "237d7bd4",
   "metadata": {},
   "outputs": [
    {
     "name": "stdout",
     "output_type": "stream",
     "text": [
      "q-1: -\n",
      "r-1: x^8\n",
      "f-1: 1\n",
      "g-1: 0\n",
      "-------------\n",
      "q0: -\n",
      "r0: x^6 + x^4 + x^2 + x + 1\n",
      "f0: 0\n",
      "g0: 1\n",
      "-------------\n",
      "q1: x^2 + 1\n",
      "r1: x^3 + x + 1\n",
      "f1: 1\n",
      "g1: x^2 + 1\n",
      "-------------\n",
      "q2: x^3 + 1\n",
      "r2: x^2\n",
      "f2: x^3 + 1\n",
      "g2: x^5 + x^3 + x^2\n",
      "-------------\n",
      "q3: x\n",
      "r3: x + 1\n",
      "f3: x^4 + x + 1\n",
      "g3: x^6 + x^4 + x^3 + x^2 + 1\n",
      "-------------\n",
      "q4: x + 1\n",
      "r4: 1\n",
      "f4: x^5 + x^4 + x^3 + x^2\n",
      "g4: x^7 + x^6 + x^3 + x + 1\n",
      "-------------\n",
      "q5: x + 1\n",
      "r5: 0\n",
      "f5: x^6 + x^4 + x^2 + x + 1\n",
      "g5: x^8\n",
      "-------------\n",
      "q5: x + 1\n",
      "r5: 0\n",
      "f5: -\n",
      "g5: -\n"
     ]
    }
   ],
   "source": [
    "r_prev = ax\n",
    "f_prev = GF(1)\n",
    "g_prev = GF(0)\n",
    "\n",
    "r_0 = bx\n",
    "f_0 = GF(0)\n",
    "g_0 = GF(1)\n",
    "\n",
    "print(f\"q-1: -\")\n",
    "print(f\"r-1: {r_prev}\")\n",
    "print(f\"f-1: {f_prev}\")\n",
    "print(f\"g-1: {g_prev}\")\n",
    "print(\"-------------\")\n",
    "print(f\"q0: -\")\n",
    "print(f\"r0: {r_0}\")\n",
    "print(f\"f0: {f_0}\")\n",
    "print(f\"g0: {g_0}\")\n",
    "print(\"-------------\")\n",
    "\n",
    "i = 0\n",
    "while r != GF(0):\n",
    "    i += 1\n",
    "\n",
    "    q, r = divmod(r_prev, r_0)\n",
    "    f = f_prev - (q * f_0)\n",
    "    g = g_prev - (q * g_0)\n",
    "\n",
    "    print(f\"q{i}: {q}\")\n",
    "    print(f\"r{i}: {r}\")\n",
    "    print(f\"f{i}: {f}\")\n",
    "    print(f\"g{i}: {g}\")\n",
    "    print(\"-------------\")\n",
    "    f_prev = f_0\n",
    "    g_prev = g_0\n",
    "    f_0 = f\n",
    "    g_0 = g\n",
    "    r_prev = r_0\n",
    "    r_0 = r\n",
    "print(f\"q{i}: {q}\")\n",
    "print(f\"r{i}: {r}\")\n",
    "print(f\"f{i}: -\")\n",
    "print(f\"g{i}: -\")"
   ]
  },
  {
   "cell_type": "code",
   "execution_count": 289,
   "id": "570d7704",
   "metadata": {},
   "outputs": [
    {
     "name": "stdout",
     "output_type": "stream",
     "text": [
      "q-1: -\n",
      "r-1: x^6\n",
      "g-1: 0\n",
      "-------------\n",
      "q0: -\n",
      "r0: 3x^5 + 15x^4 + 10x^3 + 2x^2 + 3x + 14\n",
      "g0: 1\n",
      "-------------\n",
      "q1: 14x + 3\n",
      "r1: 4x^4 + 2x^3 + 7x^2 + 14x + 1\n",
      "g1: 14x + 3\n",
      "-------------\n",
      "q2: 4x + 5\n",
      "r2: 15x^3 + 7x^2 + 4x + 11\n",
      "g2: 13x^2 + 15x + 14\n",
      "-------------\n",
      "q3: 6x + 11\n",
      "r3: 8x^2 + 11x + 8\n",
      "g3: 8x^3 + 2x^2 + 15x + 11\n",
      "-------------\n",
      "q4: 6x + 11\n",
      "r4: 8x^2 + 11x + 8\n",
      "g4: -\n"
     ]
    }
   ],
   "source": [
    "ax = galois.Poly.Degrees([2*t],field=GF)\n",
    "bx = S_poly\n",
    "r_prev = ax\n",
    "r = r_prev\n",
    "g_prev = GF(0)\n",
    "\n",
    "r_0 = bx\n",
    "g_0 = GF(1)\n",
    "\n",
    "print(f\"q-1: -\")\n",
    "print(f\"r-1: {r_prev}\")\n",
    "print(f\"g-1: {g_prev}\")\n",
    "print(\"-------------\")\n",
    "print(f\"q0: -\")\n",
    "print(f\"r0: {r_0}\")\n",
    "print(f\"g0: {g_0}\")\n",
    "print(\"-------------\")\n",
    "\n",
    "i = 1\n",
    "while r.degree > t-1:\n",
    "    \n",
    "\n",
    "    q, r = divmod(r_prev, r_0)\n",
    "    g = g_prev - (q * g_0)\n",
    "\n",
    "    print(f\"q{i}: {q}\")\n",
    "    print(f\"r{i}: {r}\")\n",
    "    print(f\"g{i}: {g}\")\n",
    "    print(\"-------------\")\n",
    "    g_prev = g_0\n",
    "    g_0 = g\n",
    "    r_prev = r_0\n",
    "    r_0 = r\n",
    "    i += 1\n",
    "print(f\"q{i}: {q}\")\n",
    "print(f\"r{i}: {r}\")\n",
    "print(f\"g{i}: -\")"
   ]
  },
  {
   "cell_type": "code",
   "execution_count": 290,
   "id": "3bb941d4",
   "metadata": {},
   "outputs": [
    {
     "data": {
      "text/plain": [
       "GF([], order=2^4)"
      ]
     },
     "execution_count": 290,
     "metadata": {},
     "output_type": "execute_result"
    },
    {
     "data": {
      "text/plain": [
       "array([], dtype=int64)"
      ]
     },
     "execution_count": 290,
     "metadata": {},
     "output_type": "execute_result"
    },
    {
     "ename": "IndexError",
     "evalue": "index 0 is out of bounds for axis 0 with size 0",
     "output_type": "error",
     "traceback": [
      "\u001b[31m---------------------------------------------------------------------------\u001b[39m",
      "\u001b[31mIndexError\u001b[39m                                Traceback (most recent call last)",
      "\u001b[36mCell\u001b[39m\u001b[36m \u001b[39m\u001b[32mIn[290]\u001b[39m\u001b[32m, line 6\u001b[39m\n\u001b[32m      4\u001b[39m derg = g.derivative()\n\u001b[32m      5\u001b[39m eis = [] \u001b[38;5;66;03m#loop gør længden af roots\u001b[39;00m\n\u001b[32m----> \u001b[39m\u001b[32m6\u001b[39m eis.append(-\u001b[43mroots\u001b[49m\u001b[43m[\u001b[49m\u001b[32;43m0\u001b[39;49m\u001b[43m]\u001b[49m**(-(\u001b[32m2\u001b[39m*t+\u001b[32m1\u001b[39m)) * (r(roots[\u001b[32m0\u001b[39m]) / derg(roots[\u001b[32m0\u001b[39m])))\n\u001b[32m      7\u001b[39m eis.append(-roots[\u001b[32m1\u001b[39m]**(-(\u001b[32m2\u001b[39m*t+\u001b[32m1\u001b[39m)) * (r(roots[\u001b[32m1\u001b[39m]) / derg(roots[\u001b[32m1\u001b[39m])))\n\u001b[32m      8\u001b[39m eis.append(-roots[\u001b[32m2\u001b[39m]**(-(\u001b[32m2\u001b[39m*t+\u001b[32m1\u001b[39m)) * (r(roots[\u001b[32m2\u001b[39m]) / derg(roots[\u001b[32m2\u001b[39m])))\n",
      "\u001b[36mFile \u001b[39m\u001b[32mg:\\Other computers\\Desktop\\dtu\\3-uger\\34220 Coding in communication systems\\34220Ex\\Lib\\site-packages\\galois\\_domains\\_array.py:416\u001b[39m, in \u001b[36mArray.__getitem__\u001b[39m\u001b[34m(self, key)\u001b[39m\n\u001b[32m    411\u001b[39m \u001b[38;5;28;01mdef\u001b[39;00m\u001b[38;5;250m \u001b[39m\u001b[34m__getitem__\u001b[39m(\u001b[38;5;28mself\u001b[39m, key):\n\u001b[32m    412\u001b[39m \u001b[38;5;250m    \u001b[39m\u001b[33;03m\"\"\"\u001b[39;00m\n\u001b[32m    413\u001b[39m \u001b[33;03m    Ensure that slices that return a single value return a 0-D Galois field array and not a single integer. This\u001b[39;00m\n\u001b[32m    414\u001b[39m \u001b[33;03m    ensures subsequent arithmetic with the finite field scalar works properly.\u001b[39;00m\n\u001b[32m    415\u001b[39m \u001b[33;03m    \"\"\"\u001b[39;00m\n\u001b[32m--> \u001b[39m\u001b[32m416\u001b[39m     item = \u001b[38;5;28;43msuper\u001b[39;49m\u001b[43m(\u001b[49m\u001b[43m)\u001b[49m\u001b[43m.\u001b[49m\u001b[34;43m__getitem__\u001b[39;49m\u001b[43m(\u001b[49m\u001b[43mkey\u001b[49m\u001b[43m)\u001b[49m\n\u001b[32m    417\u001b[39m     \u001b[38;5;28;01mif\u001b[39;00m np.isscalar(item):\n\u001b[32m    418\u001b[39m         item = \u001b[38;5;28mself\u001b[39m.\u001b[34m__class__\u001b[39m(item, dtype=\u001b[38;5;28mself\u001b[39m.dtype)\n",
      "\u001b[31mIndexError\u001b[39m: index 0 is out of bounds for axis 0 with size 0"
     ]
    }
   ],
   "source": [
    "roots = g.roots()\n",
    "roots\n",
    "GF.log(g.roots()) # FEJLPOSITION REELT\n",
    "derg = g.derivative()\n",
    "eis = [] #loop gør længden af roots\n",
    "eis.append(-roots[0]**(-(2*t+1)) * (r(roots[0]) / derg(roots[0])))\n",
    "eis.append(-roots[1]**(-(2*t+1)) * (r(roots[1]) / derg(roots[1])))\n",
    "eis.append(-roots[2]**(-(2*t+1)) * (r(roots[2]) / derg(roots[2])))\n",
    "\n",
    "error_vector = GF(np.zeros(15, dtype=int))\n",
    "error_vector[GF.log(g.roots())] = eis\n",
    "error_poly = galois.Poly(np.flip(error_vector), field=GF)"
   ]
  },
  {
   "cell_type": "code",
   "execution_count": null,
   "id": "fb62feec",
   "metadata": {},
   "outputs": [
    {
     "data": {
      "text/plain": [
       "Poly(x^8 + 7x^7 + 9x^6 + 3x^5 + 12x^4 + 10x^3 + 12x^2, GF(2^4))"
      ]
     },
     "execution_count": 273,
     "metadata": {},
     "output_type": "execute_result"
    },
    {
     "data": {
      "text/plain": [
       "[GF(0, order=2^4),\n",
       " GF(0, order=2^4),\n",
       " GF(0, order=2^4),\n",
       " GF(0, order=2^4),\n",
       " GF(0, order=2^4),\n",
       " GF(0, order=2^4)]"
      ]
     },
     "execution_count": 273,
     "metadata": {},
     "output_type": "execute_result"
    },
    {
     "ename": "ArithmeticError",
     "evalue": "Cannot compute the discrete logarithm of 0 in a Galois field.",
     "output_type": "error",
     "traceback": [
      "\u001b[31m---------------------------------------------------------------------------\u001b[39m",
      "\u001b[31mArithmeticError\u001b[39m                           Traceback (most recent call last)",
      "\u001b[36mCell\u001b[39m\u001b[36m \u001b[39m\u001b[32mIn[273]\u001b[39m\u001b[32m, line 13\u001b[39m\n\u001b[32m     11\u001b[39m S_powers = []\n\u001b[32m     12\u001b[39m \u001b[38;5;28;01mfor\u001b[39;00m s \u001b[38;5;129;01min\u001b[39;00m S:\n\u001b[32m---> \u001b[39m\u001b[32m13\u001b[39m     S_powers.append(\u001b[43mGF\u001b[49m\u001b[43m.\u001b[49m\u001b[43mlog\u001b[49m\u001b[43m(\u001b[49m\u001b[43ms\u001b[49m\u001b[43m)\u001b[49m)\n\u001b[32m     14\u001b[39m S_powers \n\u001b[32m     16\u001b[39m s_alpha= [alpha**S_powers[\u001b[32m0\u001b[39m],alpha**S_powers[\u001b[32m1\u001b[39m],alpha**S_powers[\u001b[32m2\u001b[39m],alpha**S_powers[\u001b[32m3\u001b[39m],alpha**S_powers[\u001b[32m4\u001b[39m],alpha**S_powers[\u001b[32m5\u001b[39m],]\n",
      "\u001b[36mFile \u001b[39m\u001b[32mg:\\Other computers\\Desktop\\dtu\\3-uger\\34220 Coding in communication systems\\34220Ex\\Lib\\site-packages\\galois\\_fields\\_array.py:1726\u001b[39m, in \u001b[36mFieldArray.log\u001b[39m\u001b[34m(self, base)\u001b[39m\n\u001b[32m   1724\u001b[39m \u001b[38;5;28;01melse\u001b[39;00m:\n\u001b[32m   1725\u001b[39m     ufunc = field._log.ufunc\n\u001b[32m-> \u001b[39m\u001b[32m1726\u001b[39m output = \u001b[43mufunc\u001b[49m\u001b[43m(\u001b[49m\u001b[43m*\u001b[49m\u001b[43minputs\u001b[49m\u001b[43m,\u001b[49m\u001b[43m \u001b[49m\u001b[43m*\u001b[49m\u001b[43m*\u001b[49m\u001b[43mkwargs\u001b[49m\u001b[43m)\u001b[49m\n\u001b[32m   1728\u001b[39m \u001b[38;5;66;03m# TODO: Could add a method keyword argument to the function to allow different modes.\u001b[39;00m\n\u001b[32m   1730\u001b[39m \u001b[38;5;28;01mif\u001b[39;00m np.isscalar(output):\n",
      "\u001b[36mFile \u001b[39m\u001b[32mg:\\Other computers\\Desktop\\dtu\\3-uger\\34220 Coding in communication systems\\34220Ex\\Lib\\site-packages\\numba\\np\\ufunc\\dufunc.py:202\u001b[39m, in \u001b[36mDUFunc.__call__\u001b[39m\u001b[34m(self, *args, **kws)\u001b[39m\n\u001b[32m    200\u001b[39m             \u001b[38;5;28;01mreturn\u001b[39;00m output\n\u001b[32m    201\u001b[39m \u001b[38;5;28;01melse\u001b[39;00m:\n\u001b[32m--> \u001b[39m\u001b[32m202\u001b[39m     \u001b[38;5;28;01mreturn\u001b[39;00m \u001b[38;5;28;43msuper\u001b[39;49m\u001b[43m(\u001b[49m\u001b[43m)\u001b[49m\u001b[43m.\u001b[49m\u001b[34;43m__call__\u001b[39;49m\u001b[43m(\u001b[49m\u001b[43m*\u001b[49m\u001b[43margs\u001b[49m\u001b[43m,\u001b[49m\u001b[43m \u001b[49m\u001b[43m*\u001b[49m\u001b[43m*\u001b[49m\u001b[43mkws\u001b[49m\u001b[43m)\u001b[49m\n",
      "\u001b[36mFile \u001b[39m\u001b[32mg:\\Other computers\\Desktop\\dtu\\3-uger\\34220 Coding in communication systems\\34220Ex\\Lib\\site-packages\\galois\\_domains\\_lookup.py:291\u001b[39m, in \u001b[36mlookup\u001b[39m\u001b[34m()\u001b[39m\n\u001b[32m    283\u001b[39m \u001b[38;5;250m\u001b[39m\u001b[33;03m\"\"\"\u001b[39;00m\n\u001b[32m    284\u001b[39m \u001b[33;03mb is a primitive element of GF(p^m)\u001b[39;00m\n\u001b[32m    285\u001b[39m \u001b[33;03ma = b^c\u001b[39;00m\n\u001b[32m   (...)\u001b[39m\u001b[32m    288\u001b[39m \u001b[33;03m          = c\u001b[39;00m\n\u001b[32m    289\u001b[39m \u001b[33;03m\"\"\"\u001b[39;00m\n\u001b[32m    290\u001b[39m \u001b[38;5;28;01mif\u001b[39;00m a == \u001b[32m0\u001b[39m:\n\u001b[32m--> \u001b[39m\u001b[32m291\u001b[39m     \u001b[38;5;28;01mraise\u001b[39;00m \u001b[38;5;167;01mArithmeticError\u001b[39;00m(\u001b[33m\"\u001b[39m\u001b[33mCannot compute the discrete logarithm of 0 in a Galois field.\u001b[39m\u001b[33m\"\u001b[39m)\n\u001b[32m    293\u001b[39m \u001b[38;5;28;01mreturn\u001b[39;00m LOG[a]\n",
      "\u001b[31mArithmeticError\u001b[39m: Cannot compute the discrete logarithm of 0 in a Galois field."
     ]
    }
   ],
   "source": [
    "new_received = error_poly + received\n",
    "new_received\n",
    "\n",
    "t = 3\n",
    "S = []\n",
    "for i in range(1, 2*t+1):\n",
    "    Si = new_received(alpha**i)\n",
    "    S.append(Si)\n",
    "S # IF ALL ZEROS THEN OVER\n",
    "\n",
    "S_powers = []\n",
    "for s in S:\n",
    "    S_powers.append(GF.log(s))\n",
    "S_powers \n",
    "\n",
    "s_alpha= [alpha**S_powers[0],alpha**S_powers[1],alpha**S_powers[2],alpha**S_powers[3],alpha**S_powers[4],alpha**S_powers[5],]\n",
    "\n",
    "S_poly = galois.Poly(s_alpha, field=GF)\n",
    "S_poly"
   ]
  },
  {
   "cell_type": "code",
   "execution_count": null,
   "id": "dae205fc",
   "metadata": {},
   "outputs": [
    {
     "name": "stdout",
     "output_type": "stream",
     "text": [
      " Power       Polynomial         Vector      Integer \n",
      "------- ------------------- -------------- ---------\n",
      "   0             0           [0, 0, 0, 0]      0     \n",
      "  x^0            1           [0, 0, 0, 1]      1     \n",
      "  x^1            x           [0, 0, 1, 0]      2     \n",
      "  x^2           x^2          [0, 1, 0, 0]      4     \n",
      "  x^3           x^3          [1, 0, 0, 0]      8     \n",
      "  x^4          x + 1         [0, 0, 1, 1]      3     \n",
      "  x^5         x^2 + x        [0, 1, 1, 0]      6     \n",
      "  x^6        x^3 + x^2       [1, 1, 0, 0]      12    \n",
      "  x^7       x^3 + x + 1      [1, 0, 1, 1]      11    \n",
      "  x^8         x^2 + 1        [0, 1, 0, 1]      5     \n",
      "  x^9         x^3 + x        [1, 0, 1, 0]      10    \n",
      "  x^10      x^2 + x + 1      [0, 1, 1, 1]      7     \n",
      "  x^11     x^3 + x^2 + x     [1, 1, 1, 0]      14    \n",
      "  x^12   x^3 + x^2 + x + 1   [1, 1, 1, 1]      15    \n",
      "  x^13     x^3 + x^2 + 1     [1, 1, 0, 1]      13    \n",
      "  x^14        x^3 + 1        [1, 0, 0, 1]      9     \n"
     ]
    }
   ],
   "source": [
    "print(GF.repr_table())"
   ]
  }
 ],
 "metadata": {
  "kernelspec": {
   "display_name": "34220Ex",
   "language": "python",
   "name": "python3"
  },
  "language_info": {
   "codemirror_mode": {
    "name": "ipython",
    "version": 3
   },
   "file_extension": ".py",
   "mimetype": "text/x-python",
   "name": "python",
   "nbconvert_exporter": "python",
   "pygments_lexer": "ipython3",
   "version": "3.12.6"
  }
 },
 "nbformat": 4,
 "nbformat_minor": 5
}
